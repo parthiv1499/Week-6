{
 "cells": [
  {
   "cell_type": "code",
   "execution_count": 2,
   "id": "1ff625b3",
   "metadata": {},
   "outputs": [
    {
     "name": "stdout",
     "output_type": "stream",
     "text": [
      "Accuracy with Linear Kernel: 0.85\n",
      "Best Gamma found: 1\n",
      "Accuracy with RBF Kernel: 0.85\n"
     ]
    }
   ],
   "source": [
    "import pandas as pd\n",
    "from sklearn.svm import SVC\n",
    "from sklearn.model_selection import GridSearchCV, train_test_split\n",
    "from sklearn.metrics import accuracy_score\n",
    "\n",
    "data = pd.read_csv('student_data.csv')\n",
    "\n",
    "X = data[['Hours_Studied', 'Review_Session']]\n",
    "y = data['Results']\n",
    "\n",
    "X_train, X_test, y_train, y_test = train_test_split(X, y, test_size=0.2, random_state=42)\n",
    "\n",
    "svm_linear = SVC(kernel='linear')\n",
    "svm_linear.fit(X_train, y_train)\n",
    "y_pred_linear = svm_linear.predict(X_test)\n",
    "accuracy_linear = accuracy_score(y_test, y_pred_linear)\n",
    "\n",
    "print(f'Accuracy with Linear Kernel: {accuracy_linear}')\n",
    "\n",
    "param_grid = {'gamma': [0.1, 1, 10]}\n",
    "svm_rbf = SVC(kernel='rbf')\n",
    "grid_search = GridSearchCV(svm_rbf, param_grid, cv=5)\n",
    "grid_search.fit(X_train, y_train)\n",
    "\n",
    "best_gamma = grid_search.best_params_['gamma']\n",
    "\n",
    "svm_rbf_best = SVC(kernel='rbf', gamma=best_gamma)\n",
    "svm_rbf_best.fit(X_train, y_train)\n",
    "y_pred_rbf = svm_rbf_best.predict(X_test)\n",
    "accuracy_rbf = accuracy_score(y_test, y_pred_rbf)\n",
    "\n",
    "print(f'Best Gamma found: {best_gamma}')\n",
    "print(f'Accuracy with RBF Kernel: {accuracy_rbf}')\n"
   ]
  },
  {
   "cell_type": "code",
   "execution_count": null,
   "id": "bc557106",
   "metadata": {},
   "outputs": [],
   "source": []
  }
 ],
 "metadata": {
  "kernelspec": {
   "display_name": "Python 3 (ipykernel)",
   "language": "python",
   "name": "python3"
  },
  "language_info": {
   "codemirror_mode": {
    "name": "ipython",
    "version": 3
   },
   "file_extension": ".py",
   "mimetype": "text/x-python",
   "name": "python",
   "nbconvert_exporter": "python",
   "pygments_lexer": "ipython3",
   "version": "3.11.4"
  }
 },
 "nbformat": 4,
 "nbformat_minor": 5
}
